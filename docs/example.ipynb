{
    "cells": [
        {
            "cell_type": "markdown",
            "metadata": {},
            "source": [
                "# Example usage\n",
                "\n",
                "Here we will demonstrate how to use `poolcontrolpy` to access a nodejs-poolController API and fetch the configuration."
            ]
        },
        {
            "cell_type": "markdown",
            "metadata": {},
            "source": [
                "## Imports"
            ]
        },
        {
            "cell_type": "code",
            "execution_count": 5,
            "metadata": {},
            "outputs": [],
            "source": [
                "import asyncio\n",
                "import aiohttp\n",
                "\n",
                "from poolcontrolpy.poolcontrolpy import Controller"
            ]
        },
        {
            "cell_type": "markdown",
            "metadata": {},
            "source": [
                "## Create async function\n",
                "\n",
                "We will create an async function that instantiates a controller and gets all config values."
            ]
        },
        {
            "cell_type": "code",
            "execution_count": 6,
            "metadata": {},
            "outputs": [],
            "source": [
                "async def main():\n",
                "\n",
                "    async with aiohttp.ClientSession() as client:\n",
                "        controller = Controller(client, \"10.0.20.13\", 4200)\n",
                "        return await controller._rh.get(\"/config\")"
            ]
        },
        {
            "cell_type": "markdown",
            "metadata": {},
            "source": [
                "## Access values\n",
                "\n",
                "We call the function to return the config in JSON form, where we can access the values."
            ]
        },
        {
            "cell_type": "code",
            "execution_count": 7,
            "metadata": {},
            "outputs": [
                {
                    "name": "stdout",
                    "output_type": "stream",
                    "text": [
                        "{'id': 2, 'freeze': True, 'type': 0, 'isActive': True, 'eggTimer': 60, 'showInFeatures': False, 'name': 'Cleaner', 'nameId': 22, 'dontStop': False, 'master': 0}\n"
                    ]
                }
            ],
            "source": [
                "loop = asyncio.get_event_loop()\n",
                "config = await loop.create_task(main())\n",
                "\n",
                "print(config['circuits'][1])"
            ]
        },
        {
            "cell_type": "code",
            "execution_count": 8,
            "metadata": {},
            "outputs": [
                {
                    "name": "stdout",
                    "output_type": "stream",
                    "text": [
                        "{'id': 1, 'type': 0, 'circuit': 12, 'isActive': True, 'isReturn': False, 'isIntake': False, 'name': 'Fountains', 'master': 0, 'isVirtual': False}\n"
                    ]
                }
            ],
            "source": [
                "print(config['valves'][0])"
            ]
        }
    ],
    "metadata": {
        "kernelspec": {
            "display_name": "Python 3.9.12 ('poolcontrolpy')",
            "language": "python",
            "name": "python3"
        },
        "language_info": {
            "codemirror_mode": {
                "name": "ipython",
                "version": 3
            },
            "file_extension": ".py",
            "mimetype": "text/x-python",
            "name": "python",
            "nbconvert_exporter": "python",
            "pygments_lexer": "ipython3",
            "version": "3.9.12"
        },
        "vscode": {
            "interpreter": {
                "hash": "3380d1bd85ad90419ef6914ce286a24a72582c210934fba051d825a55d3b40d7"
            }
        }
    },
    "nbformat": 4,
    "nbformat_minor": 4
}
